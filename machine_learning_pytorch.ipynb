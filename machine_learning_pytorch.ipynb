{
 "cells": [
  {
   "cell_type": "code",
   "id": "initial_id",
   "metadata": {
    "collapsed": true,
    "ExecuteTime": {
     "end_time": "2025-01-16T14:03:03.454464Z",
     "start_time": "2025-01-16T14:02:53.521410Z"
    }
   },
   "source": [
    "%matplotlib inline\n",
    "import torch\n",
    "from torch import nn\n",
    "from torch.utils.data import DataLoader, TensorDataset\n",
    "import pandas as pd\n",
    "from tqdm import tqdm\n",
    "from torch.utils.tensorboard import SummaryWriter\n",
    "from libs import models, functions"
   ],
   "outputs": [],
   "execution_count": 1
  },
  {
   "metadata": {
    "ExecuteTime": {
     "end_time": "2025-01-16T14:03:03.501467Z",
     "start_time": "2025-01-16T14:03:03.469464Z"
    }
   },
   "cell_type": "code",
   "source": [
    "# Load CSV data into a pandas DataFrame\n",
    "df = pd.read_csv('data/Battery_RUL_cleaned.csv')\n",
    "df = df[df.columns[1:]]  # Remove the first column\n",
    "\n",
    "# Last column is the target variable\n",
    "X = df.iloc[:, :-1].values\n",
    "y = df.iloc[:, -1].values\n",
    "\n",
    "# Convert to PyTorch tensors\n",
    "X_tensor = torch.tensor(X, dtype=torch.float32)\n",
    "y_tensor = torch.tensor(y, dtype=torch.float32)\n",
    "\n",
    "# Create a TensorDataset\n",
    "dataset = TensorDataset(X_tensor, y_tensor)\n",
    "\n",
    "# Split the dataset into training and testing sets\n",
    "train_size = int(0.8 * len(dataset))\n",
    "test_size = len(dataset) - train_size\n",
    "train_dataset, test_dataset = torch.utils.data.random_split(dataset, [train_size, test_size])\n",
    "\n",
    "# Create data loaders\n",
    "batch_size = 64\n",
    "train_dataloader = DataLoader(train_dataset, batch_size=batch_size, shuffle=True)\n",
    "test_dataloader = DataLoader(test_dataset, batch_size=batch_size, shuffle=False)"
   ],
   "id": "1d8f90ff8634e989",
   "outputs": [],
   "execution_count": 2
  },
  {
   "metadata": {
    "ExecuteTime": {
     "end_time": "2025-01-16T14:03:04.056470Z",
     "start_time": "2025-01-16T14:03:03.867466Z"
    }
   },
   "cell_type": "code",
   "source": [
    "# Get cpu, gpu or mps device for training.\n",
    "device = (\n",
    "    \"cuda\"\n",
    "    if torch.cuda.is_available()\n",
    "    else \"mps\"\n",
    "    if torch.backends.mps.is_available()\n",
    "    else \"cpu\"\n",
    ")\n",
    "print(f\"Using {device} device\")\n",
    "\n",
    "\n",
    "#model = models.SimpleNN(10).to(device)\n",
    "#model = models.NN(512, 0.2).to(device)\n",
    "#model = models.NeuralNetwork(512).to(device)\n",
    "model = models.LSTMNN(32, 1, 0).to(device)\n",
    "model = models.GRUNN(32, 1, 0).to(device)\n",
    "#model = CNN(16, 3).to(device)\n",
    "print(model)"
   ],
   "id": "6e7a1a15a9029c0f",
   "outputs": [
    {
     "name": "stdout",
     "output_type": "stream",
     "text": [
      "Using cuda device\n",
      "LSTMNN(\n",
      "  (lstm): LSTM(7, 32, batch_first=True)\n",
      "  (fc): Linear(in_features=32, out_features=1, bias=True)\n",
      ")\n"
     ]
    }
   ],
   "execution_count": 3
  },
  {
   "metadata": {
    "ExecuteTime": {
     "end_time": "2025-01-16T14:06:46.131706Z",
     "start_time": "2025-01-16T14:03:26.249564Z"
    }
   },
   "cell_type": "code",
   "source": [
    "# Initialize TensorBoard writer\n",
    "writer = SummaryWriter('runs/experiment_LSTM')\n",
    "\n",
    "loss1 = nn.MSELoss()\n",
    "loss2 = nn.MSELoss()\n",
    "optimizer = torch.optim.Adam(model.parameters(), lr=1e-1)\n",
    "scheduler = torch.optim.lr_scheduler.StepLR(optimizer, step_size=100, gamma=0.8)\n",
    "epochs = 1500\n",
    "\n",
    "# Initialize early stopping\n",
    "early_stopping = functions.EarlyStopping(patience=50, min_delta=0.01)\n",
    "\n",
    "pbar = tqdm(range(epochs))\n",
    "for t in pbar:\n",
    "    train_loss = functions.train(train_dataloader, model, loss1, loss2, optimizer, t, device, writer)\n",
    "    test_loss = functions.test(test_dataloader, model, loss1, loss2, t, device, writer)\n",
    "    test_loss_MAE = functions.test(test_dataloader, model, nn.L1Loss(), nn.L1Loss(), t, device, writer)\n",
    "    test_loss_MSE = functions.test(test_dataloader, model, nn.MSELoss(), nn.MSELoss(), t, device, writer)\n",
    "    scheduler.step()\n",
    "    pbar.set_description(f\"Train Loss: {train_loss:.4f}, Test Loss: {test_loss:.4f}, Test Loss MAE: {test_loss_MAE:.4f}, Test Loss MSE: {test_loss_MSE:.4f}\")\n",
    "\n",
    "    # Check for early stopping\n",
    "    #early_stopping(test_loss)\n",
    "    if early_stopping.early_stop:\n",
    "        print(\"Early stopping\")\n",
    "        break\n",
    "\n",
    "print(\"Done!\")\n",
    "torch.save(model.state_dict(), 'models/model.pt')  # Save only the state_dict\n",
    "\n",
    "# Close the TensorBoard writer\n",
    "writer.close()\n",
    "\n",
    "model.eval()\n",
    "X, y = next(iter(test_dataloader))\n",
    "X, y = X.to(device), y.to(device)\n",
    "with torch.no_grad():\n",
    "    pred = model(X)\n",
    "    predicted, actual = pred[0], y[0]\n",
    "    print(f'Input: \"{X[0]}\", Predicted: \"{predicted}\", Actual: \"{actual}\"')"
   ],
   "id": "8cb3510bee6b1130",
   "outputs": [
    {
     "name": "stderr",
     "output_type": "stream",
     "text": [
      "Train Loss: 223834.7500, Test Loss: 374919.8677, Test Loss MAE: 712.2643, Test Loss MSE: 374919.8677: 100%|██████████| 1500/1500 [03:19<00:00,  7.51it/s]"
     ]
    },
    {
     "name": "stdout",
     "output_type": "stream",
     "text": [
      "Done!\n",
      "Input: \"tensor([1.8608e+03, 5.7960e+02, 3.9730e+00, 3.4920e+00, 3.9467e+03, 4.8683e+03,\n",
      "        8.7135e+03], device='cuda:0')\", Predicted: \"tensor([273.4179], device='cuda:0')\", Actual: \"815.0\"\n"
     ]
    },
    {
     "name": "stderr",
     "output_type": "stream",
     "text": [
      "\n"
     ]
    }
   ],
   "execution_count": 4
  }
 ],
 "metadata": {
  "kernelspec": {
   "display_name": "Python 3",
   "language": "python",
   "name": "python3"
  },
  "language_info": {
   "codemirror_mode": {
    "name": "ipython",
    "version": 2
   },
   "file_extension": ".py",
   "mimetype": "text/x-python",
   "name": "python",
   "nbconvert_exporter": "python",
   "pygments_lexer": "ipython2",
   "version": "2.7.6"
  }
 },
 "nbformat": 4,
 "nbformat_minor": 5
}
